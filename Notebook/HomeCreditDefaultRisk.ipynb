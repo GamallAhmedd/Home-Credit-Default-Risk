{
  "nbformat": 4,
  "nbformat_minor": 0,
  "metadata": {
    "colab": {
      "provenance": [],
      "toc_visible": true
    },
    "kernelspec": {
      "name": "python3",
      "display_name": "Python 3"
    },
    "language_info": {
      "name": "python"
    }
  },
  "cells": [
    {
      "cell_type": "markdown",
      "source": [
        "#import&installs"
      ],
      "metadata": {
        "id": "WuYboF1H_iON"
      }
    },
    {
      "cell_type": "code",
      "source": [
        "!pip install missforest lightgbm xgboost joblib\n",
        "!pip install --upgrade scikit-learn\n",
        "!pip install --upgrade catboost\n",
        "!pip install missforest\n",
        "!pip install catboost\n"
      ],
      "metadata": {
        "colab": {
          "base_uri": "https://localhost:8080/"
        },
        "id": "UGC1zzDS_g2c",
        "outputId": "98c3c83e-a0fc-40d5-bd11-d806bf56626f"
      },
      "execution_count": 1,
      "outputs": [
        {
          "output_type": "stream",
          "name": "stdout",
          "text": [
            "Collecting missforest\n",
            "  Downloading MissForest-4.2.3-py3-none-any.whl.metadata (8.3 kB)\n",
            "Requirement already satisfied: lightgbm in /usr/local/lib/python3.11/dist-packages (4.5.0)\n",
            "Requirement already satisfied: xgboost in /usr/local/lib/python3.11/dist-packages (2.1.3)\n",
            "Requirement already satisfied: joblib in /usr/local/lib/python3.11/dist-packages (1.4.2)\n",
            "Requirement already satisfied: numpy>=1.17.0 in /usr/local/lib/python3.11/dist-packages (from lightgbm) (1.26.4)\n",
            "Requirement already satisfied: scipy in /usr/local/lib/python3.11/dist-packages (from lightgbm) (1.13.1)\n",
            "Requirement already satisfied: nvidia-nccl-cu12 in /usr/local/lib/python3.11/dist-packages (from xgboost) (2.21.5)\n",
            "Downloading MissForest-4.2.3-py3-none-any.whl (14 kB)\n",
            "Installing collected packages: missforest\n",
            "Successfully installed missforest-4.2.3\n",
            "Requirement already satisfied: scikit-learn in /usr/local/lib/python3.11/dist-packages (1.6.1)\n",
            "Requirement already satisfied: numpy>=1.19.5 in /usr/local/lib/python3.11/dist-packages (from scikit-learn) (1.26.4)\n",
            "Requirement already satisfied: scipy>=1.6.0 in /usr/local/lib/python3.11/dist-packages (from scikit-learn) (1.13.1)\n",
            "Requirement already satisfied: joblib>=1.2.0 in /usr/local/lib/python3.11/dist-packages (from scikit-learn) (1.4.2)\n",
            "Requirement already satisfied: threadpoolctl>=3.1.0 in /usr/local/lib/python3.11/dist-packages (from scikit-learn) (3.5.0)\n",
            "Collecting catboost\n",
            "  Downloading catboost-1.2.7-cp311-cp311-manylinux2014_x86_64.whl.metadata (1.2 kB)\n",
            "Requirement already satisfied: graphviz in /usr/local/lib/python3.11/dist-packages (from catboost) (0.20.3)\n",
            "Requirement already satisfied: matplotlib in /usr/local/lib/python3.11/dist-packages (from catboost) (3.10.0)\n",
            "Requirement already satisfied: numpy<2.0,>=1.16.0 in /usr/local/lib/python3.11/dist-packages (from catboost) (1.26.4)\n",
            "Requirement already satisfied: pandas>=0.24 in /usr/local/lib/python3.11/dist-packages (from catboost) (2.2.2)\n",
            "Requirement already satisfied: scipy in /usr/local/lib/python3.11/dist-packages (from catboost) (1.13.1)\n",
            "Requirement already satisfied: plotly in /usr/local/lib/python3.11/dist-packages (from catboost) (5.24.1)\n",
            "Requirement already satisfied: six in /usr/local/lib/python3.11/dist-packages (from catboost) (1.17.0)\n",
            "Requirement already satisfied: python-dateutil>=2.8.2 in /usr/local/lib/python3.11/dist-packages (from pandas>=0.24->catboost) (2.8.2)\n",
            "Requirement already satisfied: pytz>=2020.1 in /usr/local/lib/python3.11/dist-packages (from pandas>=0.24->catboost) (2024.2)\n",
            "Requirement already satisfied: tzdata>=2022.7 in /usr/local/lib/python3.11/dist-packages (from pandas>=0.24->catboost) (2025.1)\n",
            "Requirement already satisfied: contourpy>=1.0.1 in /usr/local/lib/python3.11/dist-packages (from matplotlib->catboost) (1.3.1)\n",
            "Requirement already satisfied: cycler>=0.10 in /usr/local/lib/python3.11/dist-packages (from matplotlib->catboost) (0.12.1)\n",
            "Requirement already satisfied: fonttools>=4.22.0 in /usr/local/lib/python3.11/dist-packages (from matplotlib->catboost) (4.55.7)\n",
            "Requirement already satisfied: kiwisolver>=1.3.1 in /usr/local/lib/python3.11/dist-packages (from matplotlib->catboost) (1.4.8)\n",
            "Requirement already satisfied: packaging>=20.0 in /usr/local/lib/python3.11/dist-packages (from matplotlib->catboost) (24.2)\n",
            "Requirement already satisfied: pillow>=8 in /usr/local/lib/python3.11/dist-packages (from matplotlib->catboost) (11.1.0)\n",
            "Requirement already satisfied: pyparsing>=2.3.1 in /usr/local/lib/python3.11/dist-packages (from matplotlib->catboost) (3.2.1)\n",
            "Requirement already satisfied: tenacity>=6.2.0 in /usr/local/lib/python3.11/dist-packages (from plotly->catboost) (9.0.0)\n",
            "Downloading catboost-1.2.7-cp311-cp311-manylinux2014_x86_64.whl (98.7 MB)\n",
            "\u001b[2K   \u001b[90m━━━━━━━━━━━━━━━━━━━━━━━━━━━━━━━━━━━━━━━━\u001b[0m \u001b[32m98.7/98.7 MB\u001b[0m \u001b[31m8.0 MB/s\u001b[0m eta \u001b[36m0:00:00\u001b[0m\n",
            "\u001b[?25hInstalling collected packages: catboost\n",
            "Successfully installed catboost-1.2.7\n",
            "Requirement already satisfied: missforest in /usr/local/lib/python3.11/dist-packages (4.2.3)\n",
            "Requirement already satisfied: catboost in /usr/local/lib/python3.11/dist-packages (1.2.7)\n",
            "Requirement already satisfied: graphviz in /usr/local/lib/python3.11/dist-packages (from catboost) (0.20.3)\n",
            "Requirement already satisfied: matplotlib in /usr/local/lib/python3.11/dist-packages (from catboost) (3.10.0)\n",
            "Requirement already satisfied: numpy<2.0,>=1.16.0 in /usr/local/lib/python3.11/dist-packages (from catboost) (1.26.4)\n",
            "Requirement already satisfied: pandas>=0.24 in /usr/local/lib/python3.11/dist-packages (from catboost) (2.2.2)\n",
            "Requirement already satisfied: scipy in /usr/local/lib/python3.11/dist-packages (from catboost) (1.13.1)\n",
            "Requirement already satisfied: plotly in /usr/local/lib/python3.11/dist-packages (from catboost) (5.24.1)\n",
            "Requirement already satisfied: six in /usr/local/lib/python3.11/dist-packages (from catboost) (1.17.0)\n",
            "Requirement already satisfied: python-dateutil>=2.8.2 in /usr/local/lib/python3.11/dist-packages (from pandas>=0.24->catboost) (2.8.2)\n",
            "Requirement already satisfied: pytz>=2020.1 in /usr/local/lib/python3.11/dist-packages (from pandas>=0.24->catboost) (2024.2)\n",
            "Requirement already satisfied: tzdata>=2022.7 in /usr/local/lib/python3.11/dist-packages (from pandas>=0.24->catboost) (2025.1)\n",
            "Requirement already satisfied: contourpy>=1.0.1 in /usr/local/lib/python3.11/dist-packages (from matplotlib->catboost) (1.3.1)\n",
            "Requirement already satisfied: cycler>=0.10 in /usr/local/lib/python3.11/dist-packages (from matplotlib->catboost) (0.12.1)\n",
            "Requirement already satisfied: fonttools>=4.22.0 in /usr/local/lib/python3.11/dist-packages (from matplotlib->catboost) (4.55.7)\n",
            "Requirement already satisfied: kiwisolver>=1.3.1 in /usr/local/lib/python3.11/dist-packages (from matplotlib->catboost) (1.4.8)\n",
            "Requirement already satisfied: packaging>=20.0 in /usr/local/lib/python3.11/dist-packages (from matplotlib->catboost) (24.2)\n",
            "Requirement already satisfied: pillow>=8 in /usr/local/lib/python3.11/dist-packages (from matplotlib->catboost) (11.1.0)\n",
            "Requirement already satisfied: pyparsing>=2.3.1 in /usr/local/lib/python3.11/dist-packages (from matplotlib->catboost) (3.2.1)\n",
            "Requirement already satisfied: tenacity>=6.2.0 in /usr/local/lib/python3.11/dist-packages (from plotly->catboost) (9.0.0)\n"
          ]
        }
      ]
    },
    {
      "cell_type": "code",
      "source": [
        "import pandas as pd\n",
        "import numpy as np\n",
        "from sklearn.impute import SimpleImputer\n",
        "from sklearn.ensemble import IsolationForest\n",
        "from sklearn.preprocessing import OneHotEncoder, StandardScaler\n",
        "from sklearn.decomposition import PCA\n",
        "from sklearn.model_selection import train_test_split\n",
        "from sklearn.compose import ColumnTransformer\n",
        "from sklearn.pipeline import Pipeline\n",
        "from sklearn.base import BaseEstimator, TransformerMixin\n",
        "from missforest import MissForest\n",
        "from sklearn.model_selection import train_test_split\n",
        "from sklearn.metrics import accuracy_score, f1_score\n",
        "import xgboost as xgb\n",
        "import lightgbm as lgb\n",
        "from catboost import CatBoostClassifier\n"
      ],
      "metadata": {
        "colab": {
          "base_uri": "https://localhost:8080/"
        },
        "id": "fiZSYiSW_uRh",
        "outputId": "0e5066a8-f6cb-46d0-9c93-1f86e07f3e83"
      },
      "execution_count": 2,
      "outputs": [
        {
          "output_type": "stream",
          "name": "stderr",
          "text": [
            "/usr/local/lib/python3.11/dist-packages/dask/dataframe/__init__.py:42: FutureWarning: \n",
            "Dask dataframe query planning is disabled because dask-expr is not installed.\n",
            "\n",
            "You can install it with `pip install dask[dataframe]` or `conda install dask`.\n",
            "This will raise in a future version.\n",
            "\n",
            "  warnings.warn(msg, FutureWarning)\n"
          ]
        }
      ]
    },
    {
      "cell_type": "markdown",
      "source": [
        "# Join Previous Application Table"
      ],
      "metadata": {
        "id": "-dOa-45Prprv"
      }
    },
    {
      "cell_type": "code",
      "execution_count": 3,
      "metadata": {
        "id": "V7biLyb4rf8Q"
      },
      "outputs": [],
      "source": [
        "prev_app = pd.read_csv('/content/drive/MyDrive/dataset/home-credit-default-risk/previous_application.csv')\n",
        "app_train = pd.read_csv('/content/drive/MyDrive/dataset/home-credit-default-risk/application_train.csv')\n"
      ]
    },
    {
      "cell_type": "code",
      "source": [
        "aggregated_previous = prev_app.groupby('SK_ID_CURR').agg({\n",
        "    'AMT_CREDIT': 'sum',\n",
        "    #sum: إجمالي قيمة القروض التي طلبها العميل\n",
        "    #يساعد في معرفة حجم القروض التي يتعامل معها العميل بشكل عام، وهل يميل لطلب قروض كبيرة أو صغيرة.\n",
        "\n",
        "    'AMT_ANNUITY': 'mean',\n",
        "    #mean: متوسط قيمة الأقساط السنوية المطلوبة من العميل في طلباته السابقة.\n",
        "    # يُستخدم لفهم قدرة العميل على الالتزام بدفع الأقساط، مما يمكن أن يساعد في تقييم الجدارة الائتمانية.\n",
        "\n",
        "    'DAYS_DECISION': 'min',\n",
        "    #min: أقرب تاريخ (منذ اليوم الحالي) اتخذ فيه العميل قراراً بشأن طلب قرض.\n",
        "    # يُستخدم لفهم مدى استمرارية العميل في طلب القروض، وهل طلب القروض حديث أو قديم.\n",
        "\n",
        "    'CNT_PAYMENT': 'mean',\n",
        "    # mean: متوسط عدد الأقساط لكل قرض في طلبات العميل السابقة.\n",
        "    #يساعد في فهم مدة القروض التي يفضلها العميل. على سبيل المثال، هل يميل العميل لاختيار قروض طويلة الأجل أم قصيرة الأجل؟\n",
        "\n",
        "    'RATE_DOWN_PAYMENT': 'mean',\n",
        "    #mean: متوسط نسبة الدفعة الأولى التي دفعها العميل مقارنة بإجمالي قيمة القرض في طلباته السابقة.\n",
        "    #يُظهر مدى قدرة العميل على دفع مقدم كبير عند طلب القروض، وهو مؤشر على الجدارة الائتمانية.\n",
        "\n",
        "    'AMT_GOODS_PRICE': 'mean',\n",
        "    # mean: متوسط سعر البضائع أو المنتجات التي طلب العميل الحصول عليها عبر القروض السابقة.\n",
        "    #لمعرفة نمط استهلاك العميل وهل يميل لشراء منتجات ذات قيمة مرتفعة أو متوسطة.\n",
        "\n",
        "    'AMT_APPLICATION': 'mean'\n",
        "    #mean: متوسط المبلغ الذي طلبه العميل في طلباته السابقة.\n",
        "    #لفهم مستوى القروض التي يطلبها العميل في المتوسط.\n",
        "}).reset_index()\n",
        "\n",
        "# Flatten the column names (multi-index created by aggregation)\n",
        "\n",
        "# Merge with the main table\n",
        "merged_table1 = pd.merge(app_train, aggregated_previous, on='SK_ID_CURR', how='left')\n",
        "\n",
        "# Save the result\n",
        "merged_table1.to_csv('merged_table_with_prev_app.csv', index=False)\n"
      ],
      "metadata": {
        "id": "eVrevLefrlD-"
      },
      "execution_count": 4,
      "outputs": []
    },
    {
      "cell_type": "markdown",
      "source": [
        "#Join with installments_payment"
      ],
      "metadata": {
        "id": "QVR46pBirxMv"
      }
    },
    {
      "cell_type": "code",
      "source": [
        "isnt_pay = pd.read_csv('/content/drive/MyDrive/dataset/home-credit-default-risk/installments_payments.csv')\n"
      ],
      "metadata": {
        "id": "rtAJvFtLrwul"
      },
      "execution_count": 5,
      "outputs": []
    },
    {
      "cell_type": "code",
      "source": [
        "# Perform aggregation on important columns in installments_payments\n",
        "aggregated_installments = isnt_pay.groupby('SK_ID_CURR').agg({\n",
        "    'AMT_INSTALMENT': 'mean',\n",
        "    #mean: يقوم بحساب المتوسط لجميع الأقساط المدفوعة عبر جميع السجلات\n",
        "\n",
        "    'AMT_PAYMENT': 'mean',\n",
        "    #mean: حساب متوسط المدفوعات عبر جميع السجلات. هذه المعلومة توفر فكرة عن مبلغ المدفوعات المعتاد.\n",
        "\n",
        "    'NUM_INSTALMENT_VERSION': 'max',\n",
        "    #max:أحدث إصدار لرقم القسط تم استخدامه. قد يكون هذا مفيدًا لفهم آخر تغيير في شروط الدفع.\n",
        "\n",
        "    'NUM_INSTALMENT_NUMBER': 'max',\n",
        "    #max: مجموع عددد الاقساط\n",
        "    'DAYS_INSTALMENT': 'mean',\n",
        "    #mean :  حساب متوسط تواريخ الأقساط في الأيام.\n",
        "    #هذه المعلومة تفيد في معرفة الوقت المعتاد بين الأقساط بيأخر ولا بيسدد بدري\n",
        "    'DAYS_ENTRY_PAYMENT': 'mean'\n",
        "    #mean: حساب متوسط الأيام بين تاريخ الدفع ووقت الدفع الفعلي.\n",
        "    #يساعد في معرفة المدة الزمنية التي تم تأخير الدفع فيها.\n",
        "}).reset_index()\n",
        "\n",
        "# Flatten MultiIndex in columns after aggregation\n",
        "# aggregated_installments.columns = ['_'.join(col).strip('_') if isinstance(col, tuple) else col for col in aggregated_installments.columns]\n",
        "\n",
        "# Merge with the merged_table1\n",
        "merged_table2 = pd.merge(merged_table1, aggregated_installments, on='SK_ID_CURR', how='left')\n",
        "\n",
        "# Display the result\n",
        "print(merged_table2.head())\n",
        "merged_table2.to_csv('merged_table_with_isntall_payment.csv', index=False)\n",
        "\n"
      ],
      "metadata": {
        "id": "JHD37LIxr3H_",
        "colab": {
          "base_uri": "https://localhost:8080/"
        },
        "outputId": "8df86050-d1e5-4a15-88db-b74a627c9842"
      },
      "execution_count": 6,
      "outputs": [
        {
          "output_type": "stream",
          "name": "stdout",
          "text": [
            "   SK_ID_CURR  TARGET NAME_CONTRACT_TYPE CODE_GENDER FLAG_OWN_CAR  \\\n",
            "0      100002       1         Cash loans           M            N   \n",
            "1      100003       0         Cash loans           F            N   \n",
            "2      100004       0    Revolving loans           M            Y   \n",
            "3      100006       0         Cash loans           F            N   \n",
            "4      100007       0         Cash loans           M            N   \n",
            "\n",
            "  FLAG_OWN_REALTY  CNT_CHILDREN  AMT_INCOME_TOTAL  AMT_CREDIT_x  \\\n",
            "0               Y             0          202500.0      406597.5   \n",
            "1               N             0          270000.0     1293502.5   \n",
            "2               Y             0           67500.0      135000.0   \n",
            "3               Y             0          135000.0      312682.5   \n",
            "4               Y             0          121500.0      513000.0   \n",
            "\n",
            "   AMT_ANNUITY_x  ...  CNT_PAYMENT RATE_DOWN_PAYMENT AMT_GOODS_PRICE_y  \\\n",
            "0        24700.5  ...    24.000000          0.000000         179055.00   \n",
            "1        35698.5  ...    10.000000          0.050030         435436.50   \n",
            "2         6750.0  ...     4.000000          0.212008          24282.00   \n",
            "3        29686.5  ...    23.000000          0.163412         408304.89   \n",
            "4        21865.5  ...    20.666667          0.159516         150530.25   \n",
            "\n",
            "  AMT_APPLICATION AMT_INSTALMENT   AMT_PAYMENT  NUM_INSTALMENT_VERSION  \\\n",
            "0       179055.00   11559.247105  11559.247105                     2.0   \n",
            "1       435436.50   64754.586000  64754.586000                     2.0   \n",
            "2        24282.00    7096.155000   7096.155000                     2.0   \n",
            "3       272203.26   62947.088438  62947.088438                     2.0   \n",
            "4       150530.25   12666.444545  12214.060227                     2.0   \n",
            "\n",
            "   NUM_INSTALMENT_NUMBER  DAYS_INSTALMENT  DAYS_ENTRY_PAYMENT  \n",
            "0                   19.0      -295.000000         -315.421053  \n",
            "1                   12.0     -1378.160000        -1385.320000  \n",
            "2                    3.0      -754.000000         -761.666667  \n",
            "3                   10.0      -252.250000         -271.625000  \n",
            "4                   17.0     -1028.606061        -1032.242424  \n",
            "\n",
            "[5 rows x 135 columns]\n"
          ]
        }
      ]
    },
    {
      "cell_type": "markdown",
      "source": [
        "#Join with credit card balance"
      ],
      "metadata": {
        "id": "cA24RkfAr4TV"
      }
    },
    {
      "cell_type": "code",
      "source": [
        "cred_card_bal = pd.read_csv('/content/drive/MyDrive/dataset/home-credit-default-risk/credit_card_balance.csv')\n"
      ],
      "metadata": {
        "id": "AuTj9ZA1r71P"
      },
      "execution_count": 7,
      "outputs": []
    },
    {
      "cell_type": "code",
      "source": [
        "# Perform aggregation on important columns in credit_card_balance\n",
        "aggregated_credit_card = cred_card_bal.groupby('SK_ID_CURR').agg({\n",
        "    'AMT_BALANCE': 'mean',                # حساب متوسط رصيد مستحق\n",
        "\n",
        "    'AMT_CREDIT_LIMIT_ACTUAL':  'max',           # حساب أقصى حد رصيد فعلي\n",
        "\n",
        "    'AMT_DRAWINGS_ATM_CURRENT': 'mean',   # حساب متوسط سحب من أجهزة الصراف الآلي\n",
        "\n",
        "    'AMT_DRAWINGS_CURRENT': 'mean',       # حساب متوسط سحب نقدي\n",
        "\n",
        "    'AMT_DRAWINGS_OTHER_CURRENT': 'mean', # حساب متوسط سحب من أنواع أخرى\n",
        "\n",
        "    'AMT_DRAWINGS_POS_CURRENT': 'mean',   # حساب متوسط سحب من نقاط البيع\n",
        "\n",
        "    'AMT_INST_MIN_REGULARITY': 'mean',                    # حساب متوسط الحد الأدنى المنتظم للمدفوعات\n",
        "\n",
        "    'AMT_PAYMENT_CURRENT': 'mean',        # حساب متوسط دفعة تم دفعها\n",
        "\n",
        "    'AMT_PAYMENT_TOTAL_CURRENT': 'mean',  # حساب متوسط، مجموع، وأقصى دفعة إجمالية\n",
        "\n",
        "    'AMT_RECEIVABLE_PRINCIPAL': 'mean',   # حساب متوسط، مجموع، وأقصى المبلغ المستحق\n",
        "\n",
        "    'AMT_RECIVABLE': 'sum',              # حساب  مجموع المبالغ المستحقة\n",
        "\n",
        "    'AMT_TOTAL_RECEIVABLE':  'sum',       # حساب متوسط، مجموع، وأقصى المبالغ المستحقة الإجمالية\n",
        "\n",
        "    'CNT_DRAWINGS_ATM_CURRENT': 'sum',                    # حساب مجموع عدد السحوبات من أجهزة الصراف الآلي\n",
        "\n",
        "    'CNT_DRAWINGS_CURRENT': 'sum',                        # حساب مجموع عدد السحوبات النقدية\n",
        "\n",
        "    'CNT_DRAWINGS_OTHER_CURRENT': 'sum',                  # حساب مجموع عدد السحوبات من أنواع أخرى\n",
        "\n",
        "    'CNT_DRAWINGS_POS_CURRENT': 'sum',                    # حساب مجموع عدد السحوبات من نقاط البيع\n",
        "\n",
        "    'CNT_INSTALMENT_MATURE_CUM': 'sum',                   # حساب مجموع عدد الأقساط المستحقة\n",
        "\n",
        "    'SK_DPD': 'max',                                     # حساب أكبر تأخير في الدفع\n",
        "\n",
        "    'SK_DPD_DEF': 'max'                                  # حساب أكبر تأخير في الدفع مع التأخير المحدد\n",
        "}).reset_index()\n",
        "\n",
        "# Flatten MultiIndex in columns after aggregation\n",
        "# aggregated_credit_card.columns = ['_'.join(col).strip('_') if isinstance(col, tuple) else col for col in aggregated_credit_card.columns]\n",
        "\n",
        "# Merge with the merged_table1\n",
        "merged_table3 = pd.merge(merged_table2, aggregated_credit_card, on='SK_ID_CURR', how='left')\n",
        "\n",
        "# Display the result\n",
        "print(merged_table3.head())\n",
        "merged_table3.to_csv('merged_table_with_credit_card_balance.csv', index=False)\n"
      ],
      "metadata": {
        "id": "PiahlDbbr-9x",
        "colab": {
          "base_uri": "https://localhost:8080/"
        },
        "outputId": "a3ea4a66-5e38-4696-993b-4f30967587a3"
      },
      "execution_count": 8,
      "outputs": [
        {
          "output_type": "stream",
          "name": "stdout",
          "text": [
            "   SK_ID_CURR  TARGET NAME_CONTRACT_TYPE CODE_GENDER FLAG_OWN_CAR  \\\n",
            "0      100002       1         Cash loans           M            N   \n",
            "1      100003       0         Cash loans           F            N   \n",
            "2      100004       0    Revolving loans           M            Y   \n",
            "3      100006       0         Cash loans           F            N   \n",
            "4      100007       0         Cash loans           M            N   \n",
            "\n",
            "  FLAG_OWN_REALTY  CNT_CHILDREN  AMT_INCOME_TOTAL  AMT_CREDIT_x  \\\n",
            "0               Y             0          202500.0      406597.5   \n",
            "1               N             0          270000.0     1293502.5   \n",
            "2               Y             0           67500.0      135000.0   \n",
            "3               Y             0          135000.0      312682.5   \n",
            "4               Y             0          121500.0      513000.0   \n",
            "\n",
            "   AMT_ANNUITY_x  ...  AMT_RECEIVABLE_PRINCIPAL AMT_RECIVABLE  \\\n",
            "0        24700.5  ...                       NaN           NaN   \n",
            "1        35698.5  ...                       NaN           NaN   \n",
            "2         6750.0  ...                       NaN           NaN   \n",
            "3        29686.5  ...                       0.0           0.0   \n",
            "4        21865.5  ...                       NaN           NaN   \n",
            "\n",
            "  AMT_TOTAL_RECEIVABLE CNT_DRAWINGS_ATM_CURRENT CNT_DRAWINGS_CURRENT  \\\n",
            "0                  NaN                      NaN                  NaN   \n",
            "1                  NaN                      NaN                  NaN   \n",
            "2                  NaN                      NaN                  NaN   \n",
            "3                  0.0                      0.0                  0.0   \n",
            "4                  NaN                      NaN                  NaN   \n",
            "\n",
            "  CNT_DRAWINGS_OTHER_CURRENT  CNT_DRAWINGS_POS_CURRENT  \\\n",
            "0                        NaN                       NaN   \n",
            "1                        NaN                       NaN   \n",
            "2                        NaN                       NaN   \n",
            "3                        0.0                       0.0   \n",
            "4                        NaN                       NaN   \n",
            "\n",
            "   CNT_INSTALMENT_MATURE_CUM  SK_DPD  SK_DPD_DEF  \n",
            "0                        NaN     NaN         NaN  \n",
            "1                        NaN     NaN         NaN  \n",
            "2                        NaN     NaN         NaN  \n",
            "3                        0.0     0.0         0.0  \n",
            "4                        NaN     NaN         NaN  \n",
            "\n",
            "[5 rows x 154 columns]\n"
          ]
        }
      ]
    },
    {
      "cell_type": "markdown",
      "source": [
        "#Join with pos_cash_balance"
      ],
      "metadata": {
        "id": "wBGjkyzzsD4I"
      }
    },
    {
      "cell_type": "code",
      "source": [
        "pos_cash_bal = pd.read_csv('/content/drive/MyDrive/dataset/home-credit-default-risk/POS_CASH_balance.csv')\n"
      ],
      "metadata": {
        "id": "Y7egoL4usAMo"
      },
      "execution_count": 9,
      "outputs": []
    },
    {
      "cell_type": "code",
      "source": [
        "# Perform aggregation on important columns in pos_cash_balance\n",
        "aggregated_pos_cash = pos_cash_bal.groupby('SK_ID_CURR').agg({\n",
        "    'CNT_INSTALMENT': 'sum',         # مجموع عدد الأقساط المدفوعة\n",
        "    'CNT_INSTALMENT_FUTURE': 'sum',  # مجموع عدد الأقساط المستقبلية\n",
        "\n",
        "}).reset_index()\n",
        "\n",
        "# Merge with the final_merged_table\n",
        "merged_table4 = pd.merge(merged_table3, aggregated_pos_cash, on='SK_ID_CURR', how='left')\n",
        "\n",
        "# Display the result\n",
        "print(merged_table4.head())\n",
        "merged_table4.to_csv('merged_table_with_pos_cash_balance.csv', index=False)"
      ],
      "metadata": {
        "id": "iNt2ZF9usF2Y",
        "colab": {
          "base_uri": "https://localhost:8080/"
        },
        "outputId": "f51aff8d-0063-4570-e0c8-e9b05cfa928c"
      },
      "execution_count": 10,
      "outputs": [
        {
          "output_type": "stream",
          "name": "stdout",
          "text": [
            "   SK_ID_CURR  TARGET NAME_CONTRACT_TYPE CODE_GENDER FLAG_OWN_CAR  \\\n",
            "0      100002       1         Cash loans           M            N   \n",
            "1      100003       0         Cash loans           F            N   \n",
            "2      100004       0    Revolving loans           M            Y   \n",
            "3      100006       0         Cash loans           F            N   \n",
            "4      100007       0         Cash loans           M            N   \n",
            "\n",
            "  FLAG_OWN_REALTY  CNT_CHILDREN  AMT_INCOME_TOTAL  AMT_CREDIT_x  \\\n",
            "0               Y             0          202500.0      406597.5   \n",
            "1               N             0          270000.0     1293502.5   \n",
            "2               Y             0           67500.0      135000.0   \n",
            "3               Y             0          135000.0      312682.5   \n",
            "4               Y             0          121500.0      513000.0   \n",
            "\n",
            "   AMT_ANNUITY_x  ...  AMT_TOTAL_RECEIVABLE CNT_DRAWINGS_ATM_CURRENT  \\\n",
            "0        24700.5  ...                   NaN                      NaN   \n",
            "1        35698.5  ...                   NaN                      NaN   \n",
            "2         6750.0  ...                   NaN                      NaN   \n",
            "3        29686.5  ...                   0.0                      0.0   \n",
            "4        21865.5  ...                   NaN                      NaN   \n",
            "\n",
            "  CNT_DRAWINGS_CURRENT CNT_DRAWINGS_OTHER_CURRENT CNT_DRAWINGS_POS_CURRENT  \\\n",
            "0                  NaN                        NaN                      NaN   \n",
            "1                  NaN                        NaN                      NaN   \n",
            "2                  NaN                        NaN                      NaN   \n",
            "3                  0.0                        0.0                      0.0   \n",
            "4                  NaN                        NaN                      NaN   \n",
            "\n",
            "  CNT_INSTALMENT_MATURE_CUM  SK_DPD  SK_DPD_DEF  CNT_INSTALMENT  \\\n",
            "0                       NaN     NaN         NaN           456.0   \n",
            "1                       NaN     NaN         NaN           283.0   \n",
            "2                       NaN     NaN         NaN            15.0   \n",
            "3                       0.0     0.0         0.0           240.0   \n",
            "4                       NaN     NaN         NaN          1012.0   \n",
            "\n",
            "   CNT_INSTALMENT_FUTURE  \n",
            "0                  285.0  \n",
            "1                  162.0  \n",
            "2                    9.0  \n",
            "3                  173.0  \n",
            "4                  592.0  \n",
            "\n",
            "[5 rows x 156 columns]\n"
          ]
        }
      ]
    },
    {
      "cell_type": "markdown",
      "source": [
        "# Join with Bureau"
      ],
      "metadata": {
        "id": "STIvczu7sHGk"
      }
    },
    {
      "cell_type": "code",
      "source": [
        "bureau = pd.read_csv('/content/drive/MyDrive/dataset/home-credit-default-risk/bureau.csv')\n"
      ],
      "metadata": {
        "id": "vjh9H8zvsG4H"
      },
      "execution_count": 11,
      "outputs": []
    },
    {
      "cell_type": "code",
      "source": [
        "# Perform aggregation on important columns in bureau\n",
        "aggregated_bureau = bureau.groupby('SK_ID_CURR').agg({\n",
        "    'AMT_CREDIT_SUM': 'sum',\n",
        "    #sum: المجموع الكلي للمبالغ الائتمانية المعتمدة للعملاء عبر جميع الحسابات الائتمانية.\n",
        "\n",
        "    'AMT_CREDIT_SUM_DEBT': 'sum',\n",
        "    #sum: مجموع المبالغ المتبقية كديون على العميل عبر حساباته الائتمانية.\n",
        "\n",
        "    'AMT_CREDIT_SUM_LIMIT': 'sum',\n",
        "    #sum: مجموع الحد الائتماني المتاح عبر جميع الحسابات الائتمانية للعملاء.\n",
        "\n",
        "    'AMT_CREDIT_SUM_OVERDUE': 'sum',\n",
        "    #sum: مجموع المبالغ المتأخرة في الدفع عبر حسابات العميل الائتمانية.\n",
        "\n",
        "    'CNT_CREDIT_PROLONG': 'sum',\n",
        "    #sum: مجموع عدد التمديدات التي تم منحها على حسابات الائتمان.\n",
        "\n",
        "    'AMT_ANNUITY': 'sum',\n",
        "    #sum: المجموع الكلي للمبالغ السنوية المستحقة على العميل في حساباته الائتمانية.\n",
        "\n",
        "}).reset_index()\n",
        "\n",
        "\n",
        "# Merge with the final_merged_table\n",
        "merged_table5 = pd.merge(merged_table4, aggregated_bureau, on='SK_ID_CURR', how='left')\n",
        "\n",
        "# Display the result\n",
        "print(merged_table5.head())\n",
        "merged_table5.to_csv('merged_table_with_bureau.csv', index=False)"
      ],
      "metadata": {
        "id": "9zrFw857sOCC",
        "colab": {
          "base_uri": "https://localhost:8080/"
        },
        "outputId": "c88c69cd-64d0-46e2-a662-e213e55ecafc"
      },
      "execution_count": 12,
      "outputs": [
        {
          "output_type": "stream",
          "name": "stdout",
          "text": [
            "   SK_ID_CURR  TARGET NAME_CONTRACT_TYPE CODE_GENDER FLAG_OWN_CAR  \\\n",
            "0      100002       1         Cash loans           M            N   \n",
            "1      100003       0         Cash loans           F            N   \n",
            "2      100004       0    Revolving loans           M            Y   \n",
            "3      100006       0         Cash loans           F            N   \n",
            "4      100007       0         Cash loans           M            N   \n",
            "\n",
            "  FLAG_OWN_REALTY  CNT_CHILDREN  AMT_INCOME_TOTAL  AMT_CREDIT_x  \\\n",
            "0               Y             0          202500.0      406597.5   \n",
            "1               N             0          270000.0     1293502.5   \n",
            "2               Y             0           67500.0      135000.0   \n",
            "3               Y             0          135000.0      312682.5   \n",
            "4               Y             0          121500.0      513000.0   \n",
            "\n",
            "   AMT_ANNUITY_x  ...  SK_DPD SK_DPD_DEF CNT_INSTALMENT CNT_INSTALMENT_FUTURE  \\\n",
            "0        24700.5  ...     NaN        NaN          456.0                 285.0   \n",
            "1        35698.5  ...     NaN        NaN          283.0                 162.0   \n",
            "2         6750.0  ...     NaN        NaN           15.0                   9.0   \n",
            "3        29686.5  ...     0.0        0.0          240.0                 173.0   \n",
            "4        21865.5  ...     NaN        NaN         1012.0                 592.0   \n",
            "\n",
            "  AMT_CREDIT_SUM AMT_CREDIT_SUM_DEBT  AMT_CREDIT_SUM_LIMIT  \\\n",
            "0     865055.565            245781.0             31988.565   \n",
            "1    1017400.500                 0.0            810000.000   \n",
            "2     189037.800                 0.0                 0.000   \n",
            "3            NaN                 NaN                   NaN   \n",
            "4     146250.000                 0.0                 0.000   \n",
            "\n",
            "   AMT_CREDIT_SUM_OVERDUE  CNT_CREDIT_PROLONG  AMT_ANNUITY  \n",
            "0                     0.0                 0.0          0.0  \n",
            "1                     0.0                 0.0          0.0  \n",
            "2                     0.0                 0.0          0.0  \n",
            "3                     NaN                 NaN          NaN  \n",
            "4                     0.0                 0.0          0.0  \n",
            "\n",
            "[5 rows x 162 columns]\n"
          ]
        }
      ]
    },
    {
      "cell_type": "code",
      "source": [
        "data = merged_table5"
      ],
      "metadata": {
        "id": "suFxsET3sP2R"
      },
      "execution_count": 13,
      "outputs": []
    },
    {
      "cell_type": "code",
      "source": [
        "data.shape"
      ],
      "metadata": {
        "colab": {
          "base_uri": "https://localhost:8080/"
        },
        "id": "0GvnUBVPXztN",
        "outputId": "888ca91c-ff65-41ab-f525-c4e6b020c015"
      },
      "execution_count": 62,
      "outputs": [
        {
          "output_type": "execute_result",
          "data": {
            "text/plain": [
              "(307511, 162)"
            ]
          },
          "metadata": {},
          "execution_count": 62
        }
      ]
    },
    {
      "cell_type": "code",
      "source": [
        "data['TARGET'].value_counts()"
      ],
      "metadata": {
        "colab": {
          "base_uri": "https://localhost:8080/",
          "height": 178
        },
        "id": "9R7LtSqh-7zL",
        "outputId": "8c025b69-f882-47b0-aa72-3be4c00a17d0"
      },
      "execution_count": 14,
      "outputs": [
        {
          "output_type": "execute_result",
          "data": {
            "text/plain": [
              "TARGET\n",
              "0    282686\n",
              "1     24825\n",
              "Name: count, dtype: int64"
            ],
            "text/html": [
              "<div>\n",
              "<style scoped>\n",
              "    .dataframe tbody tr th:only-of-type {\n",
              "        vertical-align: middle;\n",
              "    }\n",
              "\n",
              "    .dataframe tbody tr th {\n",
              "        vertical-align: top;\n",
              "    }\n",
              "\n",
              "    .dataframe thead th {\n",
              "        text-align: right;\n",
              "    }\n",
              "</style>\n",
              "<table border=\"1\" class=\"dataframe\">\n",
              "  <thead>\n",
              "    <tr style=\"text-align: right;\">\n",
              "      <th></th>\n",
              "      <th>count</th>\n",
              "    </tr>\n",
              "    <tr>\n",
              "      <th>TARGET</th>\n",
              "      <th></th>\n",
              "    </tr>\n",
              "  </thead>\n",
              "  <tbody>\n",
              "    <tr>\n",
              "      <th>0</th>\n",
              "      <td>282686</td>\n",
              "    </tr>\n",
              "    <tr>\n",
              "      <th>1</th>\n",
              "      <td>24825</td>\n",
              "    </tr>\n",
              "  </tbody>\n",
              "</table>\n",
              "</div><br><label><b>dtype:</b> int64</label>"
            ]
          },
          "metadata": {},
          "execution_count": 14
        }
      ]
    },
    {
      "cell_type": "code",
      "source": [],
      "metadata": {
        "id": "63Nieyy2CjhG"
      },
      "execution_count": 14,
      "outputs": []
    },
    {
      "cell_type": "markdown",
      "source": [
        "# Preprocessing"
      ],
      "metadata": {
        "id": "WwQiFwHb-8Sp"
      }
    },
    {
      "cell_type": "code",
      "source": [
        "from sklearn.impute import SimpleImputer\n",
        "from sklearn.preprocessing import OneHotEncoder, StandardScaler\n",
        "from sklearn.decomposition import PCA\n",
        "from sklearn.model_selection import train_test_split\n",
        "from sklearn.compose import ColumnTransformer\n",
        "from sklearn.ensemble import IsolationForest\n",
        "import pandas as pd\n",
        "import numpy as np\n",
        "\n",
        "\n",
        "def check_nulls(data):\n",
        "    nulls = data.isnull().mean() * 100\n",
        "    return nulls[nulls > 0]\n",
        "\n",
        "def check_outliers(data):\n",
        "    outliers = {}\n",
        "    numeric_cols = data.select_dtypes(include=['float64', 'int64']).columns\n",
        "    for col in numeric_cols:\n",
        "        Q1 = data[col].quantile(0.25)\n",
        "        Q3 = data[col].quantile(0.75)\n",
        "        IQR = Q3 - Q1\n",
        "        lower_bound = Q1 - 1.5 * IQR\n",
        "        upper_bound = Q3 + 1.5 * IQR\n",
        "        outliers[col] = {\n",
        "            'lower_bound': lower_bound,\n",
        "            'upper_bound': upper_bound,\n",
        "            'outliers': data[(data[col] < lower_bound) | (data[col] > upper_bound)].shape[0]\n",
        "        }\n",
        "    return outliers\n",
        "\n",
        "\n",
        "def check_skewness(data, threshold=0.5):\n",
        "    skewness = {}\n",
        "    numeric_cols = data.select_dtypes(include=['float64', 'int64']).columns\n",
        "    for col in numeric_cols:\n",
        "        skew = data[col].skew()\n",
        "        if abs(skew) > threshold:\n",
        "            skewness[col] = skew\n",
        "    return skewness\n",
        "\n",
        "# Step 1: Handle nulls with thresholds\n",
        "def handle_nulls(data, threshold_drop=55, threshold_median=15):\n",
        "    data = data.copy()\n",
        "    for col in data.columns:\n",
        "        null_percentage = data[col].isnull().mean() * 100\n",
        "\n",
        "        if null_percentage > threshold_drop:\n",
        "            data.drop(columns=col, inplace=True)\n",
        "        elif null_percentage <= threshold_median:\n",
        "            if data[col].dtype in ['float64', 'int64']:\n",
        "                data[col] = data[col].fillna(data[col].median())\n",
        "            else:\n",
        "                data[col] = data[col].fillna(data[col].mode()[0])\n",
        "    return data\n",
        "\n",
        "# Step 2: Handle missing values using MissForest\n",
        "#missforest\n",
        "'''\n",
        "def impute_missing(data):\n",
        "    data = data.copy()\n",
        "    # Encode categorical columns as integers before using MissForest\n",
        "    categorical_cols = data.select_dtypes(include=['object', 'category']).columns\n",
        "    for col in categorical_cols:\n",
        "        data[col] = data[col].astype('category').cat.codes\n",
        "\n",
        "    missforest = MissForest()\n",
        "    imputed_data = missforest.fit_transform(data)\n",
        "    return pd.DataFrame(imputed_data, columns=data.columns)\n",
        "'''\n",
        "#simpleimputer\n",
        "from sklearn.impute import SimpleImputer\n",
        "\n",
        "def impute_missing_simple(data):\n",
        "    data = data.copy()\n",
        "    numeric_cols = data.select_dtypes(include=['float64', 'int64']).columns\n",
        "    categorical_cols = data.select_dtypes(include=['object', 'category']).columns\n",
        "\n",
        "    # Impute numerical columns\n",
        "    num_imputer = SimpleImputer(strategy='median')\n",
        "    data[numeric_cols] = num_imputer.fit_transform(data[numeric_cols])\n",
        "\n",
        "    # Impute categorical columns\n",
        "    cat_imputer = SimpleImputer(strategy='most_frequent')\n",
        "    data[categorical_cols] = cat_imputer.fit_transform(data[categorical_cols])\n",
        "\n",
        "    return data\n",
        "\n",
        "# Step 3: Drop repeated columns\n",
        "def drop_repeated_columns(data, threshold=0.8):\n",
        "    data = data.copy()\n",
        "    for col in data.columns:\n",
        "        if data[col].value_counts(normalize=True).iloc[0] > threshold:\n",
        "            data.drop(columns=col, inplace=True)\n",
        "    return data\n",
        "\n",
        "# Step 4: Handle outliers\n",
        "'''\n",
        "def handle_outliers(data):\n",
        "    data = data.copy()\n",
        "    isolation_forest = IsolationForest(contamination=0.05, random_state=42)\n",
        "    predictions = isolation_forest.fit_predict(data)\n",
        "    data = data[predictions == 1]\n",
        "    return data\n",
        "'''\n",
        "def handle_outliers(data):\n",
        "    data = data.copy()\n",
        "    numeric_cols = data.select_dtypes(include=['float64', 'int64']).columns\n",
        "\n",
        "    for col in numeric_cols:\n",
        "        Q1 = data[col].quantile(0.25)\n",
        "        Q3 = data[col].quantile(0.75)\n",
        "        IQR = Q3 - Q1\n",
        "        lower_bound = Q1 - 1.5 * IQR\n",
        "        upper_bound = Q3 + 1.5 * IQR\n",
        "\n",
        "        # Capping outliers\n",
        "        data[col] = data[col].clip(lower=lower_bound, upper=upper_bound)\n",
        "\n",
        "    return data\n",
        "\n",
        "# Step 5: Handle skewness\n",
        "def handle_skewness(data, threshold=0.5):\n",
        "    data = data.copy()\n",
        "    numeric_cols = data.select_dtypes(include=['float64', 'int64']).columns\n",
        "    for col in numeric_cols:\n",
        "        skewness = data[col].skew()\n",
        "        if abs(skewness) > threshold:\n",
        "            data[col] = np.log1p(data[col] - data[col].min() + 1)\n",
        "    return data\n",
        "\n",
        "# Step 6: One-hot encoding\n",
        "def one_hot_encode(data):\n",
        "    categorical_cols = data.select_dtypes(include=['object', 'category']).columns\n",
        "    encoder = OneHotEncoder(sparse_output=False, handle_unknown='ignore')\n",
        "    encoded = encoder.fit_transform(data[categorical_cols])\n",
        "    encoded_df = pd.DataFrame(encoded, columns=encoder.get_feature_names_out(categorical_cols))\n",
        "    data = data.drop(columns=categorical_cols).reset_index(drop=True)\n",
        "    data = pd.concat([data, encoded_df], axis=1)\n",
        "    return data\n",
        "\n",
        "# Step 7: Scaling\n",
        "def scale_data(data):\n",
        "    scaler = StandardScaler()\n",
        "    scaled = scaler.fit_transform(data)\n",
        "    return pd.DataFrame(scaled, columns=data.columns)\n",
        "\n",
        "\n",
        "\n",
        "# Step 8: Split into X and y\n",
        "def split_data(data, target_column):\n",
        "    X = data.drop(columns=[target_column])\n",
        "    y = data[target_column]\n",
        "    return X, y\n",
        "\n",
        "\n"
      ],
      "metadata": {
        "id": "Z8gZJItx--ZZ"
      },
      "execution_count": 15,
      "outputs": []
    },
    {
      "cell_type": "code",
      "source": [
        "def preprocess_pipeline(data, target_column):\n",
        "    # Separate target column before preprocessing\n",
        "    y = data[target_column]\n",
        "    X = data.drop(columns=[target_column])\n",
        "\n",
        "    # فحص الـ nulls\n",
        "    print(\"Checking for nulls:\")\n",
        "    nulls = check_nulls(X)\n",
        "    print(nulls)\n",
        "\n",
        "    # فحص الـ outliers\n",
        "    print(\"Checking for outliers:\")\n",
        "    outliers = check_outliers(X)\n",
        "    print(outliers)\n",
        "\n",
        "    # فحص الـ skewness\n",
        "    print(\"Checking for skewness:\")\n",
        "    skewness = check_skewness(X)\n",
        "    print(skewness)\n",
        "\n",
        "    # Handle nulls\n",
        "    X = handle_nulls(X)\n",
        "    print('Handle nulls finished')\n",
        "\n",
        "    # Impute missing values\n",
        "    X = impute_missing_simple(X)\n",
        "    print(X.isna().sum())\n",
        "    print('Impute missing values finished')\n",
        "\n",
        "    # Drop repeated columns\n",
        "    X = drop_repeated_columns(X)\n",
        "    print('Drop repeated columns finished')\n",
        "\n",
        "    # Handle outliers\n",
        "    X = handle_outliers(X)\n",
        "    print('Handle outliers finished')\n",
        "\n",
        "    # Handle skewness\n",
        "    X = handle_skewness(X)\n",
        "    print('Handle skewness finished')\n",
        "\n",
        "    # Encode categorical data\n",
        "    X = one_hot_encode(X)\n",
        "    print('One hot encoding finished')\n",
        "\n",
        "    # Ensure only numeric data for scaling and dimensionality reduction\n",
        "    numeric_data = X.select_dtypes(include=['float64', 'int64'])\n",
        "\n",
        "    # Scale the data\n",
        "    scaled_data = scale_data(numeric_data)\n",
        "    print('Data scaling finished')\n",
        "\n",
        "\n",
        "    # Return the preprocessed features and target\n",
        "    return scaled_data, y\n"
      ],
      "metadata": {
        "id": "IIul8-q3_FA_"
      },
      "execution_count": 18,
      "outputs": []
    },
    {
      "cell_type": "code",
      "source": [
        "\n",
        "# Specify the target column\n",
        "target_column = 'TARGET'\n",
        "\n",
        "# Run the preprocessing pipeline\n",
        "X, y = preprocess_pipeline(data, target_column)\n",
        "\n",
        "# Verify the results\n",
        "print(\"Processed Features Shape:\", X.shape)\n",
        "print(\"Target Shape:\", y.shape)\n"
      ],
      "metadata": {
        "colab": {
          "base_uri": "https://localhost:8080/"
        },
        "id": "ZnII0qr5_GfJ",
        "outputId": "79542746-67c7-4c4f-9436-f081d988a31e"
      },
      "execution_count": 19,
      "outputs": [
        {
          "output_type": "stream",
          "name": "stdout",
          "text": [
            "Checking for nulls:\n",
            "AMT_ANNUITY_x              0.003902\n",
            "AMT_GOODS_PRICE_x          0.090403\n",
            "NAME_TYPE_SUITE            0.420148\n",
            "OWN_CAR_AGE               65.990810\n",
            "OCCUPATION_TYPE           31.345545\n",
            "                            ...    \n",
            "AMT_CREDIT_SUM_DEBT       14.314935\n",
            "AMT_CREDIT_SUM_LIMIT      14.314935\n",
            "AMT_CREDIT_SUM_OVERDUE    14.314935\n",
            "CNT_CREDIT_PROLONG        14.314935\n",
            "AMT_ANNUITY               14.314935\n",
            "Length: 107, dtype: float64\n",
            "Checking for outliers:\n",
            "{'SK_ID_CURR': {'lower_bound': -77850.0, 'upper_bound': 634138.0, 'outliers': 0}, 'CNT_CHILDREN': {'lower_bound': -1.5, 'upper_bound': 2.5, 'outliers': 4272}, 'AMT_INCOME_TOTAL': {'lower_bound': -22500.0, 'upper_bound': 337500.0, 'outliers': 14035}, 'AMT_CREDIT_x': {'lower_bound': -537975.0, 'upper_bound': 1616625.0, 'outliers': 6562}, 'AMT_ANNUITY_x': {'lower_bound': -10584.0, 'upper_bound': 61704.0, 'outliers': 7504}, 'AMT_GOODS_PRICE_x': {'lower_bound': -423000.0, 'upper_bound': 1341000.0, 'outliers': 14728}, 'REGION_POPULATION_RELATIVE': {'lower_bound': -0.017979500000000002, 'upper_bound': 0.056648500000000004, 'outliers': 8412}, 'DAYS_BIRTH': {'lower_bound': -30585.5, 'upper_bound': -1509.5, 'outliers': 0}, 'DAYS_EMPLOYED': {'lower_bound': -6466.5, 'upper_bound': 3417.5, 'outliers': 72217}, 'DAYS_REGISTRATION': {'lower_bound': -15683.75, 'upper_bound': 6194.25, 'outliers': 659}, 'DAYS_ID_PUBLISH': {'lower_bound': -8167.5, 'upper_bound': 2148.5, 'outliers': 0}, 'OWN_CAR_AGE': {'lower_bound': -10.0, 'upper_bound': 30.0, 'outliers': 4932}, 'FLAG_MOBIL': {'lower_bound': 1.0, 'upper_bound': 1.0, 'outliers': 1}, 'FLAG_EMP_PHONE': {'lower_bound': 1.0, 'upper_bound': 1.0, 'outliers': 55386}, 'FLAG_WORK_PHONE': {'lower_bound': 0.0, 'upper_bound': 0.0, 'outliers': 61308}, 'FLAG_CONT_MOBILE': {'lower_bound': 1.0, 'upper_bound': 1.0, 'outliers': 574}, 'FLAG_PHONE': {'lower_bound': -1.5, 'upper_bound': 2.5, 'outliers': 0}, 'FLAG_EMAIL': {'lower_bound': 0.0, 'upper_bound': 0.0, 'outliers': 17442}, 'CNT_FAM_MEMBERS': {'lower_bound': 0.5, 'upper_bound': 4.5, 'outliers': 4007}, 'REGION_RATING_CLIENT': {'lower_bound': 2.0, 'upper_bound': 2.0, 'outliers': 80527}, 'REGION_RATING_CLIENT_W_CITY': {'lower_bound': 2.0, 'upper_bound': 2.0, 'outliers': 78027}, 'HOUR_APPR_PROCESS_START': {'lower_bound': 4.0, 'upper_bound': 20.0, 'outliers': 2257}, 'REG_REGION_NOT_LIVE_REGION': {'lower_bound': 0.0, 'upper_bound': 0.0, 'outliers': 4657}, 'REG_REGION_NOT_WORK_REGION': {'lower_bound': 0.0, 'upper_bound': 0.0, 'outliers': 15612}, 'LIVE_REGION_NOT_WORK_REGION': {'lower_bound': 0.0, 'upper_bound': 0.0, 'outliers': 12503}, 'REG_CITY_NOT_LIVE_CITY': {'lower_bound': 0.0, 'upper_bound': 0.0, 'outliers': 24039}, 'REG_CITY_NOT_WORK_CITY': {'lower_bound': 0.0, 'upper_bound': 0.0, 'outliers': 70867}, 'LIVE_CITY_NOT_WORK_CITY': {'lower_bound': 0.0, 'upper_bound': 0.0, 'outliers': 55215}, 'EXT_SOURCE_1': {'lower_bound': -0.17756067565987288, 'upper_bound': 1.186620562564035, 'outliers': 0}, 'EXT_SOURCE_2': {'lower_bound': -0.014282094178385663, 'upper_bound': 1.0703566001060345, 'outliers': 0}, 'EXT_SOURCE_3': {'lower_bound': -0.07696096134865194, 'upper_bound': 1.1166672884610378, 'outliers': 0}, 'APARTMENTS_AVG': {'lower_bound': -0.07849999999999999, 'upper_bound': 0.28469999999999995, 'outliers': 10655}, 'BASEMENTAREA_AVG': {'lower_bound': -0.057799999999999976, 'upper_bound': 0.21419999999999997, 'outliers': 7190}, 'YEARS_BEGINEXPLUATATION_AVG': {'lower_bound': 0.96185, 'upper_bound': 1.0014500000000002, 'outliers': 4784}, 'YEARS_BUILD_AVG': {'lower_bound': 0.4832, 'upper_bound': 1.0272000000000001, 'outliers': 2154}, 'COMMONAREA_AVG': {'lower_bound': -0.057749999999999996, 'upper_bound': 0.11704999999999999, 'outliers': 7942}, 'ELEVATORS_AVG': {'lower_bound': -0.18, 'upper_bound': 0.3, 'outliers': 10420}, 'ENTRANCES_AVG': {'lower_bound': -0.13784999999999997, 'upper_bound': 0.41374999999999995, 'outliers': 3882}, 'FLOORSMAX_AVG': {'lower_bound': -0.08320000000000002, 'upper_bound': 0.5831999999999999, 'outliers': 5215}, 'FLOORSMIN_AVG': {'lower_bound': -0.35425, 'upper_bound': 0.81255, 'outliers': 343}, 'LANDAREA_AVG': {'lower_bound': -0.08164999999999997, 'upper_bound': 0.18594999999999998, 'outliers': 6888}, 'LIVINGAPARTMENTS_AVG': {'lower_bound': -0.055499999999999994, 'upper_bound': 0.2269, 'outliers': 7881}, 'LIVINGAREA_AVG': {'lower_bound': -0.08159999999999995, 'upper_bound': 0.2567999999999999, 'outliers': 12517}, 'NONLIVINGAPARTMENTS_AVG': {'lower_bound': -0.005849999999999999, 'upper_bound': 0.009749999999999998, 'outliers': 15580}, 'NONLIVINGAREA_AVG': {'lower_bound': -0.04155, 'upper_bound': 0.06924999999999999, 'outliers': 16546}, 'APARTMENTS_MODE': {'lower_bound': -0.08460000000000001, 'upper_bound': 0.281, 'outliers': 10397}, 'BASEMENTAREA_MODE': {'lower_bound': -0.06685, 'upper_bound': 0.21995, 'outliers': 6910}, 'YEARS_BEGINEXPLUATATION_MODE': {'lower_bound': 0.96185, 'upper_bound': 1.0014500000000002, 'outliers': 5074}, 'YEARS_BUILD_MODE': {'lower_bound': 0.5131000000000001, 'upper_bound': 1.0099, 'outliers': 2537}, 'COMMONAREA_MODE': {'lower_bound': -0.05550000000000001, 'upper_bound': 0.11170000000000001, 'outliers': 7938}, 'ELEVATORS_MODE': {'lower_bound': -0.1812, 'upper_bound': 0.302, 'outliers': 9732}, 'ENTRANCES_MODE': {'lower_bound': -0.13784999999999997, 'upper_bound': 0.41374999999999995, 'outliers': 3840}, 'FLOORSMAX_MODE': {'lower_bound': -0.08320000000000002, 'upper_bound': 0.5831999999999999, 'outliers': 5104}, 'FLOORSMIN_MODE': {'lower_bound': -0.35425, 'upper_bound': 0.81255, 'outliers': 320}, 'LANDAREA_MODE': {'lower_bound': -0.08464999999999998, 'upper_bound': 0.18534999999999996, 'outliers': 7033}, 'LIVINGAPARTMENTS_MODE': {'lower_bound': -0.061450000000000005, 'upper_bound': 0.24695, 'outliers': 7469}, 'LIVINGAREA_MODE': {'lower_bound': -0.08105, 'upper_bound': 0.24895, 'outliers': 13105}, 'NONLIVINGAPARTMENTS_MODE': {'lower_bound': -0.005849999999999999, 'upper_bound': 0.009749999999999998, 'outliers': 14224}, 'NONLIVINGAREA_MODE': {'lower_bound': -0.03465, 'upper_bound': 0.057749999999999996, 'outliers': 18817}, 'APARTMENTS_MEDI': {'lower_bound': -0.07760000000000003, 'upper_bound': 0.28480000000000005, 'outliers': 10728}, 'BASEMENTAREA_MEDI': {'lower_bound': -0.05814999999999999, 'upper_bound': 0.21345, 'outliers': 7188}, 'YEARS_BEGINEXPLUATATION_MEDI': {'lower_bound': 0.96185, 'upper_bound': 1.0014500000000002, 'outliers': 4762}, 'YEARS_BUILD_MEDI': {'lower_bound': 0.49010000000000004, 'upper_bound': 1.0269, 'outliers': 2274}, 'COMMONAREA_MEDI': {'lower_bound': -0.05719999999999999, 'upper_bound': 0.11639999999999999, 'outliers': 8004}, 'ELEVATORS_MEDI': {'lower_bound': -0.18, 'upper_bound': 0.3, 'outliers': 10383}, 'ENTRANCES_MEDI': {'lower_bound': -0.13784999999999997, 'upper_bound': 0.41374999999999995, 'outliers': 3893}, 'FLOORSMAX_MEDI': {'lower_bound': -0.08320000000000002, 'upper_bound': 0.5831999999999999, 'outliers': 5360}, 'FLOORSMIN_MEDI': {'lower_bound': -0.35425, 'upper_bound': 0.81255, 'outliers': 344}, 'LANDAREA_MEDI': {'lower_bound': -0.08345, 'upper_bound': 0.18895, 'outliers': 6873}, 'LIVINGAPARTMENTS_MEDI': {'lower_bound': -0.056400000000000006, 'upper_bound': 0.2308, 'outliers': 7927}, 'LIVINGAREA_MEDI': {'lower_bound': -0.08120000000000002, 'upper_bound': 0.2572, 'outliers': 12907}, 'NONLIVINGAPARTMENTS_MEDI': {'lower_bound': -0.005849999999999999, 'upper_bound': 0.009749999999999998, 'outliers': 15215}, 'NONLIVINGAREA_MEDI': {'lower_bound': -0.0399, 'upper_bound': 0.0665, 'outliers': 17254}, 'TOTALAREA_MODE': {'lower_bound': -0.08839999999999999, 'upper_bound': 0.2572, 'outliers': 12091}, 'OBS_30_CNT_SOCIAL_CIRCLE': {'lower_bound': -3.0, 'upper_bound': 5.0, 'outliers': 19971}, 'DEF_30_CNT_SOCIAL_CIRCLE': {'lower_bound': 0.0, 'upper_bound': 0.0, 'outliers': 35166}, 'OBS_60_CNT_SOCIAL_CIRCLE': {'lower_bound': -3.0, 'upper_bound': 5.0, 'outliers': 19564}, 'DEF_60_CNT_SOCIAL_CIRCLE': {'lower_bound': 0.0, 'upper_bound': 0.0, 'outliers': 25769}, 'DAYS_LAST_PHONE_CHANGE': {'lower_bound': -3514.0, 'upper_bound': 1670.0, 'outliers': 435}, 'FLAG_DOCUMENT_2': {'lower_bound': 0.0, 'upper_bound': 0.0, 'outliers': 13}, 'FLAG_DOCUMENT_3': {'lower_bound': -1.5, 'upper_bound': 2.5, 'outliers': 0}, 'FLAG_DOCUMENT_4': {'lower_bound': 0.0, 'upper_bound': 0.0, 'outliers': 25}, 'FLAG_DOCUMENT_5': {'lower_bound': 0.0, 'upper_bound': 0.0, 'outliers': 4648}, 'FLAG_DOCUMENT_6': {'lower_bound': 0.0, 'upper_bound': 0.0, 'outliers': 27078}, 'FLAG_DOCUMENT_7': {'lower_bound': 0.0, 'upper_bound': 0.0, 'outliers': 59}, 'FLAG_DOCUMENT_8': {'lower_bound': 0.0, 'upper_bound': 0.0, 'outliers': 25024}, 'FLAG_DOCUMENT_9': {'lower_bound': 0.0, 'upper_bound': 0.0, 'outliers': 1198}, 'FLAG_DOCUMENT_10': {'lower_bound': 0.0, 'upper_bound': 0.0, 'outliers': 7}, 'FLAG_DOCUMENT_11': {'lower_bound': 0.0, 'upper_bound': 0.0, 'outliers': 1203}, 'FLAG_DOCUMENT_12': {'lower_bound': 0.0, 'upper_bound': 0.0, 'outliers': 2}, 'FLAG_DOCUMENT_13': {'lower_bound': 0.0, 'upper_bound': 0.0, 'outliers': 1084}, 'FLAG_DOCUMENT_14': {'lower_bound': 0.0, 'upper_bound': 0.0, 'outliers': 903}, 'FLAG_DOCUMENT_15': {'lower_bound': 0.0, 'upper_bound': 0.0, 'outliers': 372}, 'FLAG_DOCUMENT_16': {'lower_bound': 0.0, 'upper_bound': 0.0, 'outliers': 3053}, 'FLAG_DOCUMENT_17': {'lower_bound': 0.0, 'upper_bound': 0.0, 'outliers': 82}, 'FLAG_DOCUMENT_18': {'lower_bound': 0.0, 'upper_bound': 0.0, 'outliers': 2500}, 'FLAG_DOCUMENT_19': {'lower_bound': 0.0, 'upper_bound': 0.0, 'outliers': 183}, 'FLAG_DOCUMENT_20': {'lower_bound': 0.0, 'upper_bound': 0.0, 'outliers': 156}, 'FLAG_DOCUMENT_21': {'lower_bound': 0.0, 'upper_bound': 0.0, 'outliers': 103}, 'AMT_REQ_CREDIT_BUREAU_HOUR': {'lower_bound': 0.0, 'upper_bound': 0.0, 'outliers': 1626}, 'AMT_REQ_CREDIT_BUREAU_DAY': {'lower_bound': 0.0, 'upper_bound': 0.0, 'outliers': 1489}, 'AMT_REQ_CREDIT_BUREAU_WEEK': {'lower_bound': 0.0, 'upper_bound': 0.0, 'outliers': 8536}, 'AMT_REQ_CREDIT_BUREAU_MON': {'lower_bound': 0.0, 'upper_bound': 0.0, 'outliers': 43759}, 'AMT_REQ_CREDIT_BUREAU_QRT': {'lower_bound': 0.0, 'upper_bound': 0.0, 'outliers': 50575}, 'AMT_REQ_CREDIT_BUREAU_YEAR': {'lower_bound': -4.5, 'upper_bound': 7.5, 'outliers': 3364}, 'AMT_CREDIT_y': {'lower_bound': -1344615.75, 'upper_bound': 2660222.25, 'outliers': 24399}, 'AMT_ANNUITY_y': {'lower_bound': -7905.55228125, 'upper_bound': 34071.83296875, 'outliers': 13063}, 'DAYS_DECISION': {'lower_bound': -4890.0, 'upper_bound': 1774.0, 'outliers': 0}, 'CNT_PAYMENT': {'lower_bound': -4.5, 'upper_bound': 31.5, 'outliers': 14457}, 'RATE_DOWN_PAYMENT': {'lower_bound': -0.16337144570616524, 'upper_bound': 0.27228574284360874, 'outliers': 10536}, 'AMT_GOODS_PRICE_y': {'lower_bound': -183460.1803125, 'upper_bound': 501918.9671875, 'outliers': 19863}, 'AMT_APPLICATION': {'lower_bound': -132060.65625, 'upper_bound': 385236.39375, 'outliers': 20369}, 'AMT_INSTALMENT': {'lower_bound': -12565.420612428166, 'upper_bound': 41741.069756345794, 'outliers': 22250}, 'AMT_PAYMENT': {'lower_bound': -13333.371509859626, 'upper_bound': 42164.60634976604, 'outliers': 24082}, 'NUM_INSTALMENT_VERSION': {'lower_bound': -0.5, 'upper_bound': 3.5, 'outliers': 29099}, 'NUM_INSTALMENT_NUMBER': {'lower_bound': -11.0, 'upper_bound': 45.0, 'outliers': 38676}, 'DAYS_INSTALMENT': {'lower_bound': -2626.3995161290327, 'upper_bound': 905.4397096774196, 'outliers': 2515}, 'DAYS_ENTRY_PAYMENT': {'lower_bound': -2632.1905422335244, 'upper_bound': 888.7383848688455, 'outliers': 2488}, 'AMT_BALANCE': {'lower_bound': -147915.75375, 'upper_bound': 246526.25625, 'outliers': 6144}, 'AMT_CREDIT_LIMIT_ACTUAL': {'lower_bound': -191250.0, 'upper_bound': 618750.0, 'outliers': 6357}, 'AMT_DRAWINGS_ATM_CURRENT': {'lower_bound': -20636.125253822265, 'upper_bound': 37426.78384794553, 'outliers': 4855}, 'AMT_DRAWINGS_CURRENT': {'lower_bound': -27500.996911764705, 'upper_bound': 45834.99485294118, 'outliers': 6418}, 'AMT_DRAWINGS_OTHER_CURRENT': {'lower_bound': 0.0, 'upper_bound': 0.0, 'outliers': 5682}, 'AMT_DRAWINGS_POS_CURRENT': {'lower_bound': -12480.85875, 'upper_bound': 20801.43125, 'outliers': 7314}, 'AMT_INST_MIN_REGULARITY': {'lower_bound': -7628.809315068493, 'upper_bound': 12714.682191780821, 'outliers': 5505}, 'AMT_PAYMENT_CURRENT': {'lower_bound': -20418.468027954306, 'upper_bound': 46484.53951613292, 'outliers': 4666}, 'AMT_PAYMENT_TOTAL_CURRENT': {'lower_bound': -18004.545000000002, 'upper_bound': 30007.575000000004, 'outliers': 7410}, 'AMT_RECEIVABLE_PRINCIPAL': {'lower_bound': -141654.18988636366, 'upper_bound': 236090.31647727278, 'outliers': 6216}, 'AMT_RECIVABLE': {'lower_bound': -4592128.8149999995, 'upper_bound': 7653548.024999999, 'outliers': 6936}, 'AMT_TOTAL_RECEIVABLE': {'lower_bound': -4592431.2825, 'upper_bound': 7654052.137499999, 'outliers': 6935}, 'CNT_DRAWINGS_ATM_CURRENT': {'lower_bound': -19.5, 'upper_bound': 32.5, 'outliers': 6470}, 'CNT_DRAWINGS_CURRENT': {'lower_bound': -45.0, 'upper_bound': 75.0, 'outliers': 7572}, 'CNT_DRAWINGS_OTHER_CURRENT': {'lower_bound': 0.0, 'upper_bound': 0.0, 'outliers': 5700}, 'CNT_DRAWINGS_POS_CURRENT': {'lower_bound': -13.5, 'upper_bound': 22.5, 'outliers': 15072}, 'CNT_INSTALMENT_MATURE_CUM': {'lower_bound': -1125.0, 'upper_bound': 1875.0, 'outliers': 15176}, 'SK_DPD': {'lower_bound': 0.0, 'upper_bound': 0.0, 'outliers': 17882}, 'SK_DPD_DEF': {'lower_bound': 0.0, 'upper_bound': 0.0, 'outliers': 14842}, 'CNT_INSTALMENT': {'lower_bound': -675.0, 'upper_bound': 1461.0, 'outliers': 19889}, 'CNT_INSTALMENT_FUTURE': {'lower_bound': -409.5, 'upper_bound': 874.5, 'outliers': 23391}, 'AMT_CREDIT_SUM': {'lower_bound': -2588137.8750000005, 'upper_bound': 5229235.845000001, 'outliers': 21991}, 'AMT_CREDIT_SUM_DEBT': {'lower_bound': -990093.1725, 'upper_bound': 1650155.2875, 'outliers': 25404}, 'AMT_CREDIT_SUM_LIMIT': {'lower_bound': 0.0, 'upper_bound': 0.0, 'outliers': 48852}, 'AMT_CREDIT_SUM_OVERDUE': {'lower_bound': 0.0, 'upper_bound': 0.0, 'outliers': 3334}, 'CNT_CREDIT_PROLONG': {'lower_bound': 0.0, 'upper_bound': 0.0, 'outliers': 8508}, 'AMT_ANNUITY': {'lower_bound': 0.0, 'upper_bound': 0.0, 'outliers': 60272}}\n",
            "Checking for skewness:\n",
            "{'CNT_CHILDREN': 1.9746044696947922, 'AMT_INCOME_TOTAL': 391.5596541041876, 'AMT_CREDIT_x': 1.2347784971349398, 'AMT_ANNUITY_x': 1.5797773638612507, 'AMT_GOODS_PRICE_x': 1.3490003414747445, 'REGION_POPULATION_RELATIVE': 1.4880085207077665, 'DAYS_EMPLOYED': 1.6643461980685423, 'DAYS_REGISTRATION': -0.590871615735003, 'OWN_CAR_AGE': 2.745422130868455, 'FLAG_MOBIL': -554.5367435977538, 'FLAG_EMP_PHONE': -1.6648864615712873, 'FLAG_WORK_PHONE': 1.504949894208777, 'FLAG_CONT_MOBILE': -23.081172345547387, 'FLAG_PHONE': 0.974082528997786, 'FLAG_EMAIL': 3.832853175202286, 'CNT_FAM_MEMBERS': 0.9875428137192184, 'REG_REGION_NOT_LIVE_REGION': 7.940276252906799, 'REG_REGION_NOT_WORK_REGION': 4.092766747503462, 'LIVE_REGION_NOT_WORK_REGION': 4.651620169085632, 'REG_CITY_NOT_LIVE_CITY': 3.1427805268221363, 'REG_CITY_NOT_WORK_CITY': 1.2801375052075339, 'LIVE_CITY_NOT_WORK_CITY': 1.669794994648827, 'EXT_SOURCE_2': -0.7935760449636996, 'APARTMENTS_AVG': 2.641835785831278, 'BASEMENTAREA_AVG': 3.566306125866454, 'YEARS_BEGINEXPLUATATION_AVG': -15.51526446627384, 'YEARS_BUILD_AVG': -0.9624852035905654, 'COMMONAREA_AVG': 5.457305396120234, 'ELEVATORS_AVG': 2.439428668562436, 'ENTRANCES_AVG': 2.399716697404246, 'FLOORSMAX_AVG': 1.2264535560153542, 'FLOORSMIN_AVG': 0.9541972815367737, 'LANDAREA_AVG': 4.458676640750078, 'LIVINGAPARTMENTS_AVG': 3.0421980613932824, 'LIVINGAREA_AVG': 2.8547364463210507, 'NONLIVINGAPARTMENTS_AVG': 15.541185476813546, 'NONLIVINGAREA_AVG': 6.559011647197609, 'APARTMENTS_MODE': 2.703051653589443, 'BASEMENTAREA_MODE': 3.4815328531579355, 'YEARS_BEGINEXPLUATATION_MODE': -14.75531783912979, 'YEARS_BUILD_MODE': -1.0023049025556319, 'COMMONAREA_MODE': 5.620589225272558, 'ELEVATORS_MODE': 2.5522810986823843, 'ENTRANCES_MODE': 2.392343315605998, 'FLOORSMAX_MODE': 1.244342500189544, 'FLOORSMIN_MODE': 0.9638347550188305, 'LANDAREA_MODE': 4.377026549681158, 'LIVINGAPARTMENTS_MODE': 2.9026718289364237, 'LIVINGAREA_MODE': 2.902491126966769, 'NONLIVINGAPARTMENTS_MODE': 16.251819241589057, 'NONLIVINGAREA_MODE': 6.522450898549672, 'APARTMENTS_MEDI': 2.639255506647989, 'BASEMENTAREA_MEDI': 3.55303952716694, 'YEARS_BEGINEXPLUATATION_MEDI': -15.573124273878925, 'YEARS_BUILD_MEDI': -0.9627843224572105, 'COMMONAREA_MEDI': 5.419238452233028, 'ELEVATORS_MEDI': 2.457824083582704, 'ENTRANCES_MEDI': 2.3877109978106597, 'FLOORSMAX_MEDI': 1.2401854976388547, 'FLOORSMIN_MEDI': 0.9602264549841384, 'LANDAREA_MEDI': 4.3682923191800445, 'LIVINGAPARTMENTS_MEDI': 2.9882914448561615, 'LIVINGAREA_MEDI': 2.848935371211631, 'NONLIVINGAPARTMENTS_MEDI': 15.671995157824549, 'NONLIVINGAREA_MEDI': 6.508830983416641, 'TOTALAREA_MODE': 2.797571520328697, 'OBS_30_CNT_SOCIAL_CIRCLE': 12.13959776486944, 'DEF_30_CNT_SOCIAL_CIRCLE': 5.183517952420263, 'OBS_60_CNT_SOCIAL_CIRCLE': 12.070828697697412, 'DEF_60_CNT_SOCIAL_CIRCLE': 5.27787829269804, 'DAYS_LAST_PHONE_CHANGE': -0.7136056678591622, 'FLAG_DOCUMENT_2': 153.79181737639308, 'FLAG_DOCUMENT_3': -0.9257248975408136, 'FLAG_DOCUMENT_4': 110.89436438826999, 'FLAG_DOCUMENT_5': 7.948321640462378, 'FLAG_DOCUMENT_6': 2.907426517037846, 'FLAG_DOCUMENT_7': 72.17410794731329, 'FLAG_DOCUMENT_8': 3.0622408450208156, 'FLAG_DOCUMENT_9': 15.927754527720973, 'FLAG_DOCUMENT_10': 209.58905368788865, 'FLAG_DOCUMENT_11': 15.894228775037023, 'FLAG_DOCUMENT_12': 392.11477910204303, 'FLAG_DOCUMENT_13': 16.753746153720634, 'FLAG_DOCUMENT_14': 18.372533338014073, 'FLAG_DOCUMENT_15': 28.69933308679244, 'FLAG_DOCUMENT_16': 9.886110804249117, 'FLAG_DOCUMENT_17': 61.2141402740244, 'FLAG_DOCUMENT_18': 10.955079518130958, 'FLAG_DOCUMENT_19': 40.95613431367996, 'FLAG_DOCUMENT_20': 44.36489680146026, 'FLAG_DOCUMENT_21': 54.612939140664494, 'AMT_REQ_CREDIT_BUREAU_HOUR': 14.534062061826708, 'AMT_REQ_CREDIT_BUREAU_DAY': 27.043504708921265, 'AMT_REQ_CREDIT_BUREAU_WEEK': 9.293572551814966, 'AMT_REQ_CREDIT_BUREAU_MON': 7.804848087437468, 'AMT_REQ_CREDIT_BUREAU_QRT': 134.3657760491256, 'AMT_REQ_CREDIT_BUREAU_YEAR': 1.243590004141659, 'AMT_CREDIT_y': 5.0130137600630285, 'AMT_ANNUITY_y': 2.531858529285751, 'CNT_PAYMENT': 1.432752857155946, 'RATE_DOWN_PAYMENT': 2.04548817278357, 'AMT_GOODS_PRICE_y': 2.9588441888390347, 'AMT_APPLICATION': 3.588029282948861, 'AMT_INSTALMENT': 18.637978032737646, 'AMT_PAYMENT': 16.09852414272408, 'NUM_INSTALMENT_VERSION': 9.189259132901938, 'NUM_INSTALMENT_NUMBER': 2.4436171424562985, 'DAYS_INSTALMENT': -0.7898769538649644, 'DAYS_ENTRY_PAYMENT': -0.7894501826308808, 'AMT_BALANCE': 2.5960318045164845, 'AMT_CREDIT_LIMIT_ACTUAL': 1.5576704638697736, 'AMT_DRAWINGS_ATM_CURRENT': 7.920809100524331, 'AMT_DRAWINGS_CURRENT': 7.167448580263853, 'AMT_DRAWINGS_OTHER_CURRENT': 14.593394699773246, 'AMT_DRAWINGS_POS_CURRENT': 10.875978133007736, 'AMT_INST_MIN_REGULARITY': 2.408406515445758, 'AMT_PAYMENT_CURRENT': 8.72531707005571, 'AMT_PAYMENT_TOTAL_CURRENT': 10.557838108515474, 'AMT_RECEIVABLE_PRINCIPAL': 2.6124534463901417, 'AMT_RECIVABLE': 2.115551720896708, 'AMT_TOTAL_RECEIVABLE': 2.1168052619115967, 'CNT_DRAWINGS_ATM_CURRENT': 3.144690079789001, 'CNT_DRAWINGS_CURRENT': 7.216416075156664, 'CNT_DRAWINGS_OTHER_CURRENT': 13.343299847523868, 'CNT_DRAWINGS_POS_CURRENT': 8.464197753645726, 'CNT_INSTALMENT_MATURE_CUM': 1.8439193388180064, 'SK_DPD': 10.514165956667558, 'SK_DPD_DEF': 98.42033941505188, 'CNT_INSTALMENT': 2.6045529585228526, 'CNT_INSTALMENT_FUTURE': 2.6175355903347315, 'AMT_CREDIT_SUM': 75.88687058488746, 'AMT_CREDIT_SUM_DEBT': 38.90571987122833, 'AMT_CREDIT_SUM_LIMIT': 11.908245041147174, 'AMT_CREDIT_SUM_OVERDUE': 152.57977836985037, 'CNT_CREDIT_PROLONG': 8.399366970699411, 'AMT_ANNUITY': 127.79785182972851}\n",
            "Handle nulls finished\n",
            "SK_ID_CURR                0\n",
            "NAME_CONTRACT_TYPE        0\n",
            "CODE_GENDER               0\n",
            "FLAG_OWN_CAR              0\n",
            "FLAG_OWN_REALTY           0\n",
            "                         ..\n",
            "AMT_CREDIT_SUM_DEBT       0\n",
            "AMT_CREDIT_SUM_LIMIT      0\n",
            "AMT_CREDIT_SUM_OVERDUE    0\n",
            "CNT_CREDIT_PROLONG        0\n",
            "AMT_ANNUITY               0\n",
            "Length: 115, dtype: int64\n",
            "Impute missing values finished\n",
            "Drop repeated columns finished\n",
            "Handle outliers finished\n",
            "Handle skewness finished\n",
            "One hot encoding finished\n",
            "Data scaling finished\n",
            "Processed Features Shape: (307511, 173)\n",
            "Target Shape: (307511,)\n"
          ]
        }
      ]
    },
    {
      "cell_type": "code",
      "source": [
        "import gc\n",
        "gc.collect()\n"
      ],
      "metadata": {
        "colab": {
          "base_uri": "https://localhost:8080/"
        },
        "id": "bI8aWy3W6ZRa",
        "outputId": "af75dedc-e1bd-4447-f177-f8159b00ac2f"
      },
      "execution_count": 20,
      "outputs": [
        {
          "output_type": "execute_result",
          "data": {
            "text/plain": [
              "0"
            ]
          },
          "metadata": {},
          "execution_count": 20
        }
      ]
    },
    {
      "cell_type": "code",
      "source": [
        "!free -h\n"
      ],
      "metadata": {
        "colab": {
          "base_uri": "https://localhost:8080/"
        },
        "id": "wzN9h4rh6efj",
        "outputId": "c7dc8f1f-9242-4bad-ccf2-825d8198b8e2"
      },
      "execution_count": 21,
      "outputs": [
        {
          "output_type": "stream",
          "name": "stdout",
          "text": [
            "               total        used        free      shared  buff/cache   available\n",
            "Mem:            12Gi       7.9Gi       1.5Gi       1.0Mi       3.3Gi       4.5Gi\n",
            "Swap:             0B          0B          0B\n"
          ]
        }
      ]
    },
    {
      "cell_type": "markdown",
      "source": [
        "# Build & Evaluate"
      ],
      "metadata": {
        "id": "logQH5w1_Q7t"
      }
    },
    {
      "cell_type": "code",
      "source": [
        "from sklearn.model_selection import train_test_split\n",
        "from sklearn.metrics import accuracy_score, roc_auc_score, roc_curve, classification_report\n",
        "import matplotlib.pyplot as plt\n",
        "import xgboost as xgb\n",
        "from lightgbm import LGBMClassifier\n",
        "from catboost import CatBoostClassifier\n",
        "X.columns = [col.strip().replace(' ', '_').replace('-', '_').replace('.', '_').replace('(', '').replace(')', '') for col in X.columns]\n",
        "\n",
        "# Function to build models, evaluate metrics, and plot AUC-ROC curve\n",
        "def build_and_evaluate_models(X, y):\n",
        "    # Split data into training and testing sets\n",
        "    X_train, X_test, y_train, y_test = train_test_split(X, y, test_size=0.2, random_state=42)\n",
        "\n",
        "    # Define models with class balancing\n",
        "    models = {\n",
        "        'XGBoost': xgb.XGBClassifier(scale_pos_weight=(y_train.value_counts()[0] / y_train.value_counts()[1]),\n",
        "                                      eval_metric='logloss', random_state=42),\n",
        "        'CatBoost': CatBoostClassifier(class_weights=[y_train.value_counts()[0] / y_train.value_counts()[1], 1],\n",
        "                                        random_state=42, verbose=0)\n",
        "    }\n",
        "\n",
        "    # Initialize results dictionary\n",
        "    results = {}\n",
        "\n",
        "    # Initialize AUC plot\n",
        "    plt.figure(figsize=(10, 6))\n",
        "\n",
        "    for model_name, model in models.items():\n",
        "        # Train the model\n",
        "        model.fit(X_train, y_train)\n",
        "\n",
        "        # Predict probabilities for AUC\n",
        "        y_pred_proba = model.predict_proba(X_test)[:, 1]\n",
        "\n",
        "        # Predict class labels\n",
        "        y_pred = model.predict(X_test)\n",
        "\n",
        "        # Evaluate metrics\n",
        "        accuracy = accuracy_score(y_test, y_pred)\n",
        "        auc_score = roc_auc_score(y_test, y_pred_proba)\n",
        "        report = classification_report(y_test, y_pred)\n",
        "\n",
        "        # Store results\n",
        "        results[model_name] = {\n",
        "            'accuracy': accuracy,\n",
        "            'auc_score': auc_score,\n",
        "            'classification_report': report\n",
        "        }\n",
        "\n",
        "        # Plot ROC curve\n",
        "        fpr, tpr, _ = roc_curve(y_test, y_pred_proba)\n",
        "        plt.plot(fpr, tpr, label=f\"{model_name} (AUC = {auc_score:.2f})\")\n",
        "\n",
        "    # Plot settings\n",
        "    plt.plot([0, 1], [0, 1], 'k--', label='Random Guess')\n",
        "    plt.title('ROC Curves for Models')\n",
        "    plt.xlabel('False Positive Rate')\n",
        "    plt.ylabel('True Positive Rate')\n",
        "    plt.legend()\n",
        "    plt.grid()\n",
        "    plt.show()\n",
        "\n",
        "    return results\n",
        "\n",
        "\n"
      ],
      "metadata": {
        "id": "KaTpbMrH_IZo"
      },
      "execution_count": 31,
      "outputs": []
    },
    {
      "cell_type": "code",
      "source": [
        "# Build and evaluate models\n",
        "results = build_and_evaluate_models(X, y)\n",
        "\n",
        "# Print results\n",
        "for model_name, result in results.items():\n",
        "    print(f\"Model: {model_name}\")\n",
        "    print(f\"Accuracy: {result['accuracy']}\")\n",
        "    print(f\"AUC: {result['auc_score']}\")\n",
        "    print(f\"Classification Report:\\n{result['classification_report']}\\n\")"
      ],
      "metadata": {
        "colab": {
          "base_uri": "https://localhost:8080/",
          "height": 1000
        },
        "id": "56HztyxN_PaS",
        "outputId": "db453cc7-5965-4b21-ac80-321b398f7ba1"
      },
      "execution_count": 32,
      "outputs": [
        {
          "output_type": "display_data",
          "data": {
            "text/plain": [
              "<Figure size 1000x600 with 1 Axes>"
            ],
            "image/png": "[encoded data removed]"
          },
          "metadata": {}
        },
        {
          "output_type": "stream",
          "name": "stdout",
          "text": [
            "Model: XGBoost\n",
            "Accuracy: 0.7464026145066094\n",
            "AUC: 0.7509015946814241\n",
            "Classification Report:\n",
            "              precision    recall  f1-score   support\n",
            "\n",
            "           0       0.96      0.76      0.85     56554\n",
            "           1       0.18      0.61      0.28      4949\n",
            "\n",
            "    accuracy                           0.75     61503\n",
            "   macro avg       0.57      0.68      0.56     61503\n",
            "weighted avg       0.89      0.75      0.80     61503\n",
            "\n",
            "\n",
            "Model: CatBoost\n",
            "Accuracy: 0.9195486399037446\n",
            "AUC: 0.7653364169535093\n",
            "Classification Report:\n",
            "              precision    recall  f1-score   support\n",
            "\n",
            "           0       0.92      1.00      0.96     56554\n",
            "           1       0.67      0.00      0.00      4949\n",
            "\n",
            "    accuracy                           0.92     61503\n",
            "   macro avg       0.79      0.50      0.48     61503\n",
            "weighted avg       0.90      0.92      0.88     61503\n",
            "\n",
            "\n"
          ]
        }
      ]
    }
  ]
}